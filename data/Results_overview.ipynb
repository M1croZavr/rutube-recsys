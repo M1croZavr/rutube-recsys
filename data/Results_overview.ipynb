{
 "cells": [
  {
   "cell_type": "code",
   "execution_count": 1,
   "id": "032e8e93-fc2b-43c3-b55e-08d5bd1d5ce2",
   "metadata": {},
   "outputs": [],
   "source": [
    "import gzip\n",
    "import json\n",
    "import pickle\n",
    "\n",
    "import numpy as np\n",
    "import pandas as pd"
   ]
  },
  {
   "cell_type": "code",
   "execution_count": 2,
   "id": "7079d3b3-a7aa-4c52-a47d-fb32583ea08d",
   "metadata": {},
   "outputs": [],
   "source": [
    "df = pd.read_csv('../data/user_item_title_237742i.csv', index_col=0, parse_dates=['event_datetime'])\n",
    "item_id_to_title = dict(zip(df['item_id'], df['title']))\n",
    "\n",
    "with open('../arfifacts/user_oe.pkl', 'rb') as file:\n",
    "    user_oe = pickle.load(file)\n",
    "    \n",
    "with open('../arfifacts/item_oe.pkl', 'rb') as file:\n",
    "    item_oe = pickle.load(file)"
   ]
  },
  {
   "cell_type": "markdown",
   "id": "396221a2-4200-4039-a53e-9386d072b474",
   "metadata": {},
   "source": [
    "# Week split"
   ]
  },
  {
   "cell_type": "code",
   "execution_count": 3,
   "id": "9c6140eb-5fb1-4ea9-9ccb-a02098db1940",
   "metadata": {},
   "outputs": [],
   "source": [
    "with gzip.open('../results/rutube_final_config_week_2024_06_22T11_32_42/predictions/original_sasrec.json.gz') as file:\n",
    "    # File of json lines\n",
    "    sasrec_predictions = [json.loads(line) for line in file]\n",
    "\n",
    "with gzip.open('../results/rutube_final_config_week_2024_06_22T11_32_42/predictions/original_bert4rec.json.gz') as file:\n",
    "    bert4rec_predictions = [json.loads(line) for line in file]\n",
    "\n",
    "with gzip.open('../results/rutube_final_config_week_2024_06_22T11_32_42/train.json.gz') as file:\n",
    "    train = [json.loads(line) for line in file]"
   ]
  },
  {
   "cell_type": "markdown",
   "id": "cdb282d1-7a39-4018-b2ba-cf35801d92df",
   "metadata": {},
   "source": [
    "# LOO split"
   ]
  },
  {
   "cell_type": "code",
   "execution_count": 15,
   "id": "7ae2bc0b-aef7-4b0e-8247-d5eaa7a4fa2c",
   "metadata": {},
   "outputs": [],
   "source": [
    "with gzip.open('../results/rutube_final_config_loo_2024_06_22T13_24_47/predictions/original_bert4rec.json.gz') as file:\n",
    "    sasrec_predictions = [json.loads(line) for line in file]\n",
    "\n",
    "with gzip.open('../results/rutube_final_config_loo_2024_06_22T13_24_47/predictions/original_sasrec.json.gz') as file:\n",
    "    bert4rec_predictions = [json.loads(line) for line in file]\n",
    "\n",
    "with gzip.open('../results/rutube_final_config_loo_2024_06_22T13_24_47/train.json.gz') as file:\n",
    "    train = [json.loads(line) for line in file]"
   ]
  },
  {
   "cell_type": "markdown",
   "id": "13127ed3-e068-4872-8a87-c2245a6a206d",
   "metadata": {},
   "source": [
    "# Evaluation"
   ]
  },
  {
   "cell_type": "code",
   "execution_count": 4,
   "id": "ee964a70-08d1-41a1-885f-17b88732c073",
   "metadata": {},
   "outputs": [],
   "source": [
    "def get_top_n_recommendations(idx, data, train, n=10):\n",
    "    record = data[idx]\n",
    "    user_id = record['user_id']\n",
    "    predictions = record['predictions'][:n]\n",
    "    target = json.loads(record['test_actions'][0])['item_id']\n",
    "    result = dict()\n",
    "    result['target'] = item_oe.inverse_transform([[int(target)]])\n",
    "    result['predictions'] = item_oe.inverse_transform(\n",
    "        np.array(list(map(lambda x: x[0], predictions))).astype(int).reshape(-1, 1)\n",
    "    )\n",
    "    result['history'] =  item_oe.inverse_transform(\n",
    "        np.array([record['item_id'] for record in train if record['user_id'] == user_id][-n:]).astype(int).reshape(-1, 1)\n",
    "    )\n",
    "    return result\n",
    "\n",
    "\n",
    "def format_recommendations(recommendations):\n",
    "    f = 'History:\\n\\t{}\\n\\nRecommendations:\\n\\t{}\\n\\nGround truth:\\n\\t{}'\n",
    "    target = item_id_to_title[recommendations['target'].item()]\n",
    "    predictions = list([item_id_to_title[item_id.item()] for item_id in recommendations['predictions']])\n",
    "    history = list([item_id_to_title[item_id.item()] for item_id in recommendations['history']])\n",
    "    return f.format(\n",
    "        '\\n\\t'.join(history),\n",
    "        '\\n\\t'.join(predictions),\n",
    "        target\n",
    "    )"
   ]
  },
  {
   "cell_type": "code",
   "execution_count": 6,
   "id": "03c1f4fc-a72c-4a03-b8d6-f068f2245e78",
   "metadata": {
    "scrolled": true
   },
   "outputs": [
    {
     "name": "stdout",
     "output_type": "stream",
     "text": [
      "History:\n",
      "\tСвадьба в фотостудии VS Классическая свадьба\n",
      "\tЭКСТРЕМАЛЬНЫЕ ПРЯТКИ В ОГРОМНОМ ДОМЕ!\n",
      "\tКухня | Сезон 2 | Серия 11\n",
      "\n",
      "Recommendations:\n",
      "\tУкраинский фронт - сражение в Авдеевке. Взяли террикон. 24 октября 2023\n",
      "\tНовые военные заводы России стали причиной истерики в НАТО\n",
      "\tПутин: глава Генштаба РФ рекомендовал пока оставить ВСУ в «Крынках»!\n",
      "\tПрямой эфир Матч ТВ\n",
      "\tСводки с фронтов от Кота Костяна  08.11.23\n",
      "\t\"Ели, пили, веселились... Или  сказ о том, как Путин \"\"устал\"\".\"\n",
      "\tПрямой эфир НТВ\n",
      "\tШоу Воли, 33 выпуск\n",
      "\t\"Отчего у либералов сморщенные лица, или \"\"Россия - первая в мире\"\"\"\n",
      "\tВоскресное утро с Котом Костяном\n",
      "\n",
      "Ground truth:\n",
      "\tУДИВИТЕЛЬНЫЙ ЦИФРОВОЙ ЦИРК: ПИЛОТ ( English )\n",
      "History:\n",
      "\tВремя Ч: Илон Маск теряет спутники, Россия уничтожает Starlink\n",
      "\tВзять Киев или разгромить ВСУ? Полетаев о приоритетах России\n",
      "\tПочему на Украине зазвучали трезвые голоса и как Евросоюз морозит Зеленского – Лидов\n",
      "\tКуда ВСУ ударят в следующий раз? Кто под наибольшей угрозой и сколько ещё будет длиться СВО - Рожин\n",
      "\tДенег не дадут, в ЕС не возьмут и заставят сдаться: Ищенко о новых планах Запада для Украины\n",
      "\tЛокомотив - Ростов. Обзор матча FONBET Кубка России по футболу сезона 2023-2024гг. 03.10.2023\n",
      "\tЧем будем наступать в воздухе и где создадим буфер для освобождения Херсона и Запорожья - Мощанский\n",
      "\tДинамо - Спартак. Обзор матча FONBET Кубка России по футболу сезона 2023-2024гг. 04.10.2023\n",
      "\tНеизвестная Россия: Курилы (Итуруп)\n",
      "\t«Великое множество моментов»: Гаспарян оценил речь Путина на «Валдае»\n",
      "\n",
      "Recommendations:\n",
      "\tУкраинский фронт - шатдаун в США. 350 тыс. погибших на Украине. 30 сентября 2023\n",
      "\tУкраинский фронт - сражение в Авдеевке. Взяли террикон. 24 октября 2023\n",
      "\tСекреты крови, взлом Sony, опасности рунета, грязная борьба за экологию | В цепких лапах\n",
      "\tРоссия - Камерун. Обзор товарищеского матча 12.10.2023\n",
      "\tЛиквидация стримеров, жир Apple, что светит ПК | В цепких лапах\n",
      "\tВКС РФ уничтожили паромную переправу на Дунае в Румынию\n",
      "\tОрбитальные бомжи, воздух на продажу, звери VR, секрет Амазонии | Новости науки\n",
      "\tКраснодар - Ростов. Обзор матча МИР РПЛ 07.10.2023\n",
      "\tВечерний Излучатель: ледокольный атомный флот\n",
      "\tБудущее без деревьев, токсичные пауки, цари, козы и мыло из пластика | Новости науки\n",
      "\n",
      "Ground truth:\n",
      "\tПочему США придётся воевать на Тайване и, возможно, не прокси - Ищенко\n",
      "History:\n",
      "\tЗенит - Пари НН. Обзор матча Мир РПЛ 09.12.2023\n",
      "\tКраснодар - ЦСКА. Обзор матча Мир РПЛ 10.12.2023\n",
      "\tСочи - Оренбург. Обзор матча Мир РПЛ 10.12.2023\n",
      "\tБалтика - Рубин. Обзор матча Мир РПЛ 10.12.2023\n",
      "\tФакел - Динамо. Обзор матча Мир РПЛ 10.12.2023\n",
      "\tОсада Праги, ветхозаветная блудница, бойня при Судомерже, конец Вацлава IV | Гуситские войны №6\n",
      "\tСамые ожидаемые игры 2024, GTA 6, экранизация Fallout | Опергеймер\n",
      "\tКРЕМНИЙ В ЕС ВСЁ! | БЮДЖЕТНИКОВ КИНУЛИ НА ПЛАНШЕТЫ | ЩЕМЯТ БЕЛЫХ ХАКЕРОВ В РФ\n",
      "\tВзлом по заказу, микрочип раздора, лень, слежка и нейросети | В цепких лапах\n",
      "\tПРАВДА ПРО Р-ФОН и РОСА Мобайл: РЕАКТ Гладкова на ВИДОС Горшенина\n",
      "\n",
      "Recommendations:\n",
      "\tПроцессоры “Байкал”, кадровый вопрос, санкции и микроэлектроника в России\n",
      "\tГость из космоса, нервная диета, зимнее отопление и атомные тайны | Новости науки\n",
      "\tПоход Прокопа Лысого, кончина Папы, бегство крестоносцев, Базельский собор | Гуситские войны №8\n",
      "\tСопрано S04E10 Сильная, молчаливая личность - Разбор Гоблина с Дементием\n",
      "\tКапля электричества, вредное дыхание, жертва млечного пути | Новости науки\n",
      "\tКрипта и Netflix, денежный чип Apple, новые рубли и налоги, слежка в кармане | В цепких лапах\n",
      "\tПражские интриги, раскол Табора, выборы короля, подлость Сигизмунда | Гуситские войны №7\n",
      "\tГлеб Таргонский о фильме «Неуловимые мстители»\n",
      "\tСергей Вильянов о китайских процессорах, импортозамещении и итогах года\n",
      "\tЖареный красный окунь на сковороде.\n",
      "\n",
      "Ground truth:\n",
      "\tПроцессоры “Байкал”, кадровый вопрос, санкции и микроэлектроника в России\n",
      "History:\n",
      "\tКороль десертов. Финал. Телеканал Пятница. 06.12.2023. Ренат Агзамов. Константин Ивлеев.\n",
      "\tНовые пацанки. 12 выпуск. 07.12.2023. Телеканал Пятница. Смотреть онлайн.\n",
      "\tКуклы наследника Тутти 11.12.2023.\n",
      "\tВечер с Владимиром Соловьёвым. 12.12.2023. Выступление Зеленского перед сенаторами США.\n",
      "\tУнион - Реал Мадрид. Лига Чемпионов. 12.12.23.Обзор матча.Прямая трансляция.Футбол онлайн\n",
      "\tВечер с Владимиром Соловьёвым. 14.12.2023. Итоги года. Прямая линия Путина В.В.\n",
      "\tПоле Чудес. Капитал-Шоу. 15.12.2023. Леонид Якубович. Первый канал. Смотреть онлайн.\n",
      "\tДело писателей / Рой, Ревякина, Бурляев, Фатеев, Черницкая / Шоу Вована и Лексуса\n",
      "\tШоу Воли. Новый 35 выпуск 17.12.2023. Смотреть онлайн. Премьера. ТНТ СТС Первый Россия НТВ РенТВ\n",
      "\tБольшая игра. Выпуск 18.12.2023. Первый канал. Смотреть онлайн. Актуальная информация о ходе СВО.\n",
      "\n",
      "Recommendations:\n",
      "\tЖареная зубатка на сковороде.\n",
      "\tПутин подвёл итоги/ Финны лютуют/ Кагарыч на свободе/ Россия без Олимпиады: №78\n",
      "\tСтейк Раунд.\n",
      "\tФальсификация истории. Дмитрий ПУЧКОВ, лектор Российского общества «Знание»\n",
      "\tГулянка сатаны/ Много кокаина/ Трампа отменили/ Санкции остаются: №79\n",
      "\tСамые ожидаемые игры 2024, GTA 6, экранизация Fallout | Опергеймер\n",
      "\tПиарщик Георгий Лобушкин: каково работать, если главный – Дуров, и как правильно троллить корпорации\n",
      "\tСтейк Модена.\n",
      "\tОтветы «Ерундопель» Игры со словами направлены-прививание интереса к слову и родной речи.(часть 3)\n",
      "\tЖареный красный окунь на сковороде.\n",
      "\n",
      "Ground truth:\n",
      "\tЛига Городов. Финал. 24.12.2023. Смотреть онлайн. Премьера. ТНТ СТС РенТВ Россия Все выпуски\n"
     ]
    }
   ],
   "source": [
    "for i in range(100):\n",
    "    result = format_recommendations(get_top_n_recommendations(i, bert4rec_predictions, train))\n",
    "    if 'матч' in result.lower():\n",
    "        print(result)"
   ]
  },
  {
   "cell_type": "code",
   "execution_count": null,
   "id": "a6ee3e74-1355-48e0-80d8-55f2a7deda8a",
   "metadata": {},
   "outputs": [],
   "source": []
  }
 ],
 "metadata": {
  "kernelspec": {
   "display_name": "Python 3 (ipykernel)",
   "language": "python",
   "name": "python3"
  },
  "language_info": {
   "codemirror_mode": {
    "name": "ipython",
    "version": 3
   },
   "file_extension": ".py",
   "mimetype": "text/x-python",
   "name": "python",
   "nbconvert_exporter": "python",
   "pygments_lexer": "ipython3",
   "version": "3.12.2"
  }
 },
 "nbformat": 4,
 "nbformat_minor": 5
}
