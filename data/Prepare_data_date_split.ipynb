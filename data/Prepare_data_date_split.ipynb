{
 "cells": [
  {
   "cell_type": "code",
   "execution_count": 1,
   "id": "5e8c9dd2-1ff4-49b5-b892-f76809306f86",
   "metadata": {},
   "outputs": [],
   "source": [
    "import pickle\n",
    "\n",
    "import pandas as pd"
   ]
  },
  {
   "cell_type": "code",
   "execution_count": 2,
   "id": "81aa9799-7380-4314-bbec-2a9c3662ba57",
   "metadata": {},
   "outputs": [
    {
     "data": {
      "text/plain": [
       "(237742, 4)"
      ]
     },
     "execution_count": 2,
     "metadata": {},
     "output_type": "execute_result"
    }
   ],
   "source": [
    "df = pd.read_csv('./user_item_title_237742i.csv', index_col=0, parse_dates=['event_datetime'])\n",
    "df.shape"
   ]
  },
  {
   "cell_type": "code",
   "execution_count": 3,
   "id": "377dc4d1-4d3c-4ef9-96f1-93a9590815de",
   "metadata": {},
   "outputs": [
    {
     "data": {
      "text/html": [
       "<div>\n",
       "<style scoped>\n",
       "    .dataframe tbody tr th:only-of-type {\n",
       "        vertical-align: middle;\n",
       "    }\n",
       "\n",
       "    .dataframe tbody tr th {\n",
       "        vertical-align: top;\n",
       "    }\n",
       "\n",
       "    .dataframe thead th {\n",
       "        text-align: right;\n",
       "    }\n",
       "</style>\n",
       "<table border=\"1\" class=\"dataframe\">\n",
       "  <thead>\n",
       "    <tr style=\"text-align: right;\">\n",
       "      <th></th>\n",
       "      <th>user_id</th>\n",
       "      <th>item_id</th>\n",
       "      <th>title</th>\n",
       "      <th>event_datetime</th>\n",
       "    </tr>\n",
       "  </thead>\n",
       "  <tbody>\n",
       "    <tr>\n",
       "      <th>0</th>\n",
       "      <td>user_4329458</td>\n",
       "      <td>video_3442132</td>\n",
       "      <td>Сопрано S03E06 Университет - Разбор Гоблина с ...</td>\n",
       "      <td>2023-08-31 21:00:03</td>\n",
       "    </tr>\n",
       "    <tr>\n",
       "      <th>1</th>\n",
       "      <td>user_3576973</td>\n",
       "      <td>video_3131219</td>\n",
       "      <td>#видеомейкинг #видеоурок</td>\n",
       "      <td>2023-08-31 21:00:08</td>\n",
       "    </tr>\n",
       "    <tr>\n",
       "      <th>2</th>\n",
       "      <td>user_4161636</td>\n",
       "      <td>video_2173882</td>\n",
       "      <td>Первые высотки проекта (Интерьер)</td>\n",
       "      <td>2023-08-31 21:00:18</td>\n",
       "    </tr>\n",
       "    <tr>\n",
       "      <th>3</th>\n",
       "      <td>user_25263908</td>\n",
       "      <td>video_2361603</td>\n",
       "      <td>Волк кушает бублики</td>\n",
       "      <td>2023-08-31 21:01:02</td>\n",
       "    </tr>\n",
       "    <tr>\n",
       "      <th>4</th>\n",
       "      <td>user_17492633</td>\n",
       "      <td>video_1682383</td>\n",
       "      <td>Рисунок поросенка Мейбл - Легкие рисунки - Мил...</td>\n",
       "      <td>2023-08-31 21:01:46</td>\n",
       "    </tr>\n",
       "  </tbody>\n",
       "</table>\n",
       "</div>"
      ],
      "text/plain": [
       "         user_id        item_id  \\\n",
       "0   user_4329458  video_3442132   \n",
       "1   user_3576973  video_3131219   \n",
       "2   user_4161636  video_2173882   \n",
       "3  user_25263908  video_2361603   \n",
       "4  user_17492633  video_1682383   \n",
       "\n",
       "                                               title      event_datetime  \n",
       "0  Сопрано S03E06 Университет - Разбор Гоблина с ... 2023-08-31 21:00:03  \n",
       "1                           #видеомейкинг #видеоурок 2023-08-31 21:00:08  \n",
       "2                  Первые высотки проекта (Интерьер) 2023-08-31 21:00:18  \n",
       "3                                Волк кушает бублики 2023-08-31 21:01:02  \n",
       "4  Рисунок поросенка Мейбл - Легкие рисунки - Мил... 2023-08-31 21:01:46  "
      ]
     },
     "execution_count": 3,
     "metadata": {},
     "output_type": "execute_result"
    }
   ],
   "source": [
    "df.head()"
   ]
  },
  {
   "cell_type": "code",
   "execution_count": 4,
   "id": "83286257-a9bd-4ae7-8ea2-21fdb655bbc0",
   "metadata": {},
   "outputs": [
    {
     "data": {
      "text/plain": [
       "event_datetime\n",
       "2023-12-18    2031\n",
       "2023-12-19    2280\n",
       "2023-12-20    1949\n",
       "2023-12-21    2006\n",
       "2023-12-22    2255\n",
       "2023-12-23    1807\n",
       "2023-12-24    1866\n",
       "2023-12-25    2287\n",
       "2023-12-26    2002\n",
       "2023-12-27    1884\n",
       "2023-12-28    1944\n",
       "2023-12-29    2143\n",
       "2023-12-30    1873\n",
       "2023-12-31    1412\n",
       "Name: count, dtype: int64"
      ]
     },
     "execution_count": 4,
     "metadata": {},
     "output_type": "execute_result"
    }
   ],
   "source": [
    "df['event_datetime'].dt.date.value_counts().sort_index().tail(14)"
   ]
  },
  {
   "cell_type": "code",
   "execution_count": 5,
   "id": "ed0e5538-8b99-4abd-b3dc-c49d2ab0e47e",
   "metadata": {},
   "outputs": [
    {
     "data": {
      "text/plain": [
       "((224197, 4), (12626, 4))"
      ]
     },
     "execution_count": 5,
     "metadata": {},
     "output_type": "execute_result"
    }
   ],
   "source": [
    "df_train = df[df['event_datetime'] < '2023-12-25']\n",
    "df_test = df[df['event_datetime'] >= '2023-12-25']\n",
    "df_test = df_test[df_test['user_id'].isin(df_train['user_id'])]\n",
    "df_train.shape, df_test.shape"
   ]
  },
  {
   "cell_type": "code",
   "execution_count": 6,
   "id": "c4b0fea0-1142-45cc-80fd-c70dbe589409",
   "metadata": {},
   "outputs": [
    {
     "data": {
      "text/plain": [
       "(2067, 2067)"
      ]
     },
     "execution_count": 6,
     "metadata": {},
     "output_type": "execute_result"
    }
   ],
   "source": [
    "len(set(df_train['user_id']) & set(df_test['user_id'])), df_test['user_id'].nunique()"
   ]
  },
  {
   "cell_type": "code",
   "execution_count": 7,
   "id": "0ee536ba-77c8-4867-8cb1-c765552738d4",
   "metadata": {},
   "outputs": [
    {
     "data": {
      "text/plain": [
       "count    2067.000000\n",
       "mean        6.108370\n",
       "std        31.827461\n",
       "min         1.000000\n",
       "25%         1.000000\n",
       "50%         2.000000\n",
       "75%         4.000000\n",
       "max       667.000000\n",
       "Name: item_id, dtype: float64"
      ]
     },
     "execution_count": 7,
     "metadata": {},
     "output_type": "execute_result"
    }
   ],
   "source": [
    "df_test.groupby('user_id')['item_id'].nunique().describe()"
   ]
  },
  {
   "cell_type": "code",
   "execution_count": 8,
   "id": "cb9c0c80-80cd-4b94-858b-08b08d0f5fc1",
   "metadata": {},
   "outputs": [
    {
     "data": {
      "text/html": [
       "<div>\n",
       "<style scoped>\n",
       "    .dataframe tbody tr th:only-of-type {\n",
       "        vertical-align: middle;\n",
       "    }\n",
       "\n",
       "    .dataframe tbody tr th {\n",
       "        vertical-align: top;\n",
       "    }\n",
       "\n",
       "    .dataframe thead th {\n",
       "        text-align: right;\n",
       "    }\n",
       "</style>\n",
       "<table border=\"1\" class=\"dataframe\">\n",
       "  <thead>\n",
       "    <tr style=\"text-align: right;\">\n",
       "      <th></th>\n",
       "      <th>user_id</th>\n",
       "      <th>item_id</th>\n",
       "    </tr>\n",
       "  </thead>\n",
       "  <tbody>\n",
       "    <tr>\n",
       "      <th>0</th>\n",
       "      <td>user_10024788</td>\n",
       "      <td>video_82960</td>\n",
       "    </tr>\n",
       "    <tr>\n",
       "      <th>1</th>\n",
       "      <td>user_10049908</td>\n",
       "      <td>video_1849076</td>\n",
       "    </tr>\n",
       "    <tr>\n",
       "      <th>2</th>\n",
       "      <td>user_10063731</td>\n",
       "      <td>None</td>\n",
       "    </tr>\n",
       "    <tr>\n",
       "      <th>3</th>\n",
       "      <td>user_10070433</td>\n",
       "      <td>video_1860820</td>\n",
       "    </tr>\n",
       "    <tr>\n",
       "      <th>4</th>\n",
       "      <td>user_10078413</td>\n",
       "      <td>video_3382395</td>\n",
       "    </tr>\n",
       "  </tbody>\n",
       "</table>\n",
       "</div>"
      ],
      "text/plain": [
       "         user_id        item_id\n",
       "0  user_10024788    video_82960\n",
       "1  user_10049908  video_1849076\n",
       "2  user_10063731           None\n",
       "3  user_10070433  video_1860820\n",
       "4  user_10078413  video_3382395"
      ]
     },
     "execution_count": 8,
     "metadata": {},
     "output_type": "execute_result"
    }
   ],
   "source": [
    "train_sequences = df_train.sort_values('event_datetime').groupby('user_id')['item_id'].apply(list).reset_index().explode('item_id')\n",
    "train_items_set = set(train_sequences['item_id'])\n",
    "# Возьму только первый известный айтем тестовой недели, так как прогнозируе следующий айтем\n",
    "def return_train_seen_items(x):\n",
    "    for item_id in x.values:\n",
    "        if item_id in train_items_set:\n",
    "            return item_id\n",
    "    else:\n",
    "        return None\n",
    "\n",
    "\n",
    "test_sequences = df_test.sort_values('event_datetime').groupby('user_id')['item_id'].apply(return_train_seen_items).reset_index()\n",
    "test_sequences.head()"
   ]
  },
  {
   "cell_type": "code",
   "execution_count": 9,
   "id": "d55519de-9140-4e1e-af13-0a601f7370ee",
   "metadata": {},
   "outputs": [
    {
     "data": {
      "text/html": [
       "<div>\n",
       "<style scoped>\n",
       "    .dataframe tbody tr th:only-of-type {\n",
       "        vertical-align: middle;\n",
       "    }\n",
       "\n",
       "    .dataframe tbody tr th {\n",
       "        vertical-align: top;\n",
       "    }\n",
       "\n",
       "    .dataframe thead th {\n",
       "        text-align: right;\n",
       "    }\n",
       "</style>\n",
       "<table border=\"1\" class=\"dataframe\">\n",
       "  <thead>\n",
       "    <tr style=\"text-align: right;\">\n",
       "      <th></th>\n",
       "      <th>user_id</th>\n",
       "      <th>item_id</th>\n",
       "    </tr>\n",
       "  </thead>\n",
       "  <tbody>\n",
       "    <tr>\n",
       "      <th>0</th>\n",
       "      <td>user_10024788</td>\n",
       "      <td>video_82960</td>\n",
       "    </tr>\n",
       "    <tr>\n",
       "      <th>1</th>\n",
       "      <td>user_10049908</td>\n",
       "      <td>video_1849076</td>\n",
       "    </tr>\n",
       "    <tr>\n",
       "      <th>3</th>\n",
       "      <td>user_10070433</td>\n",
       "      <td>video_1860820</td>\n",
       "    </tr>\n",
       "    <tr>\n",
       "      <th>4</th>\n",
       "      <td>user_10078413</td>\n",
       "      <td>video_3382395</td>\n",
       "    </tr>\n",
       "    <tr>\n",
       "      <th>7</th>\n",
       "      <td>user_10103094</td>\n",
       "      <td>video_2775359</td>\n",
       "    </tr>\n",
       "  </tbody>\n",
       "</table>\n",
       "</div>"
      ],
      "text/plain": [
       "         user_id        item_id\n",
       "0  user_10024788    video_82960\n",
       "1  user_10049908  video_1849076\n",
       "3  user_10070433  video_1860820\n",
       "4  user_10078413  video_3382395\n",
       "7  user_10103094  video_2775359"
      ]
     },
     "execution_count": 9,
     "metadata": {},
     "output_type": "execute_result"
    }
   ],
   "source": [
    "test_sequences = test_sequences[~test_sequences['item_id'].isna()]\n",
    "test_sequences.head()"
   ]
  },
  {
   "cell_type": "code",
   "execution_count": 10,
   "id": "23cc5f04-7da2-49ce-a3d4-919dbde2f354",
   "metadata": {},
   "outputs": [],
   "source": [
    "with open('../arfifacts/user_oe.pkl', 'rb') as file:\n",
    "    user_oe = pickle.load(file)\n",
    "    \n",
    "with open('../arfifacts/item_oe.pkl', 'rb') as file:\n",
    "    item_oe = pickle.load(file)\n",
    "\n",
    "train_sequences['user_id'] = user_oe.transform(train_sequences['user_id'].values.reshape(-1, 1))\n",
    "train_sequences['item_id'] = item_oe.transform(train_sequences['item_id'].values.reshape(-1, 1))\n",
    "\n",
    "test_sequences['user_id'] = user_oe.transform(test_sequences['user_id'].values.reshape(-1, 1))\n",
    "test_sequences['item_id'] = item_oe.transform(test_sequences['item_id'].values.reshape(-1, 1))"
   ]
  },
  {
   "cell_type": "code",
   "execution_count": 11,
   "id": "6bce8301-4cf2-4b13-a7ab-b18ad4747ddc",
   "metadata": {},
   "outputs": [
    {
     "data": {
      "text/html": [
       "<div>\n",
       "<style scoped>\n",
       "    .dataframe tbody tr th:only-of-type {\n",
       "        vertical-align: middle;\n",
       "    }\n",
       "\n",
       "    .dataframe tbody tr th {\n",
       "        vertical-align: top;\n",
       "    }\n",
       "\n",
       "    .dataframe thead th {\n",
       "        text-align: right;\n",
       "    }\n",
       "</style>\n",
       "<table border=\"1\" class=\"dataframe\">\n",
       "  <thead>\n",
       "    <tr style=\"text-align: right;\">\n",
       "      <th></th>\n",
       "      <th>user_id</th>\n",
       "      <th>item_id</th>\n",
       "    </tr>\n",
       "  </thead>\n",
       "  <tbody>\n",
       "    <tr>\n",
       "      <th>0</th>\n",
       "      <td>0</td>\n",
       "      <td>17863</td>\n",
       "    </tr>\n",
       "    <tr>\n",
       "      <th>0</th>\n",
       "      <td>0</td>\n",
       "      <td>14687</td>\n",
       "    </tr>\n",
       "    <tr>\n",
       "      <th>0</th>\n",
       "      <td>0</td>\n",
       "      <td>88</td>\n",
       "    </tr>\n",
       "    <tr>\n",
       "      <th>0</th>\n",
       "      <td>0</td>\n",
       "      <td>14128</td>\n",
       "    </tr>\n",
       "    <tr>\n",
       "      <th>0</th>\n",
       "      <td>0</td>\n",
       "      <td>14073</td>\n",
       "    </tr>\n",
       "    <tr>\n",
       "      <th>...</th>\n",
       "      <td>...</td>\n",
       "      <td>...</td>\n",
       "    </tr>\n",
       "    <tr>\n",
       "      <th>9216</th>\n",
       "      <td>9379</td>\n",
       "      <td>18216</td>\n",
       "    </tr>\n",
       "    <tr>\n",
       "      <th>9216</th>\n",
       "      <td>9379</td>\n",
       "      <td>20483</td>\n",
       "    </tr>\n",
       "    <tr>\n",
       "      <th>9216</th>\n",
       "      <td>9379</td>\n",
       "      <td>16770</td>\n",
       "    </tr>\n",
       "    <tr>\n",
       "      <th>9216</th>\n",
       "      <td>9379</td>\n",
       "      <td>5847</td>\n",
       "    </tr>\n",
       "    <tr>\n",
       "      <th>9216</th>\n",
       "      <td>9379</td>\n",
       "      <td>4531</td>\n",
       "    </tr>\n",
       "  </tbody>\n",
       "</table>\n",
       "<p>224197 rows × 2 columns</p>\n",
       "</div>"
      ],
      "text/plain": [
       "      user_id  item_id\n",
       "0           0    17863\n",
       "0           0    14687\n",
       "0           0       88\n",
       "0           0    14128\n",
       "0           0    14073\n",
       "...       ...      ...\n",
       "9216     9379    18216\n",
       "9216     9379    20483\n",
       "9216     9379    16770\n",
       "9216     9379     5847\n",
       "9216     9379     4531\n",
       "\n",
       "[224197 rows x 2 columns]"
      ]
     },
     "execution_count": 11,
     "metadata": {},
     "output_type": "execute_result"
    }
   ],
   "source": [
    "train_sequences"
   ]
  },
  {
   "cell_type": "code",
   "execution_count": 12,
   "id": "d8af187f-e4c7-4b00-96a0-ad515baba43d",
   "metadata": {},
   "outputs": [
    {
     "data": {
      "text/html": [
       "<div>\n",
       "<style scoped>\n",
       "    .dataframe tbody tr th:only-of-type {\n",
       "        vertical-align: middle;\n",
       "    }\n",
       "\n",
       "    .dataframe tbody tr th {\n",
       "        vertical-align: top;\n",
       "    }\n",
       "\n",
       "    .dataframe thead th {\n",
       "        text-align: right;\n",
       "    }\n",
       "</style>\n",
       "<table border=\"1\" class=\"dataframe\">\n",
       "  <thead>\n",
       "    <tr style=\"text-align: right;\">\n",
       "      <th></th>\n",
       "      <th>user_id</th>\n",
       "      <th>item_id</th>\n",
       "    </tr>\n",
       "  </thead>\n",
       "  <tbody>\n",
       "    <tr>\n",
       "      <th>0</th>\n",
       "      <td>8</td>\n",
       "      <td>22098</td>\n",
       "    </tr>\n",
       "    <tr>\n",
       "      <th>1</th>\n",
       "      <td>16</td>\n",
       "      <td>6064</td>\n",
       "    </tr>\n",
       "    <tr>\n",
       "      <th>3</th>\n",
       "      <td>25</td>\n",
       "      <td>6142</td>\n",
       "    </tr>\n",
       "    <tr>\n",
       "      <th>4</th>\n",
       "      <td>27</td>\n",
       "      <td>16762</td>\n",
       "    </tr>\n",
       "    <tr>\n",
       "      <th>7</th>\n",
       "      <td>36</td>\n",
       "      <td>12476</td>\n",
       "    </tr>\n",
       "    <tr>\n",
       "      <th>...</th>\n",
       "      <td>...</td>\n",
       "      <td>...</td>\n",
       "    </tr>\n",
       "    <tr>\n",
       "      <th>2061</th>\n",
       "      <td>9350</td>\n",
       "      <td>15730</td>\n",
       "    </tr>\n",
       "    <tr>\n",
       "      <th>2063</th>\n",
       "      <td>9365</td>\n",
       "      <td>10367</td>\n",
       "    </tr>\n",
       "    <tr>\n",
       "      <th>2064</th>\n",
       "      <td>9369</td>\n",
       "      <td>14402</td>\n",
       "    </tr>\n",
       "    <tr>\n",
       "      <th>2065</th>\n",
       "      <td>9375</td>\n",
       "      <td>1587</td>\n",
       "    </tr>\n",
       "    <tr>\n",
       "      <th>2066</th>\n",
       "      <td>9376</td>\n",
       "      <td>605</td>\n",
       "    </tr>\n",
       "  </tbody>\n",
       "</table>\n",
       "<p>1193 rows × 2 columns</p>\n",
       "</div>"
      ],
      "text/plain": [
       "      user_id  item_id\n",
       "0           8    22098\n",
       "1          16     6064\n",
       "3          25     6142\n",
       "4          27    16762\n",
       "7          36    12476\n",
       "...       ...      ...\n",
       "2061     9350    15730\n",
       "2063     9365    10367\n",
       "2064     9369    14402\n",
       "2065     9375     1587\n",
       "2066     9376      605\n",
       "\n",
       "[1193 rows x 2 columns]"
      ]
     },
     "execution_count": 12,
     "metadata": {},
     "output_type": "execute_result"
    }
   ],
   "source": [
    "test_sequences"
   ]
  },
  {
   "cell_type": "code",
   "execution_count": 13,
   "id": "e664bff2-db11-4596-ad8d-82806f1efebf",
   "metadata": {},
   "outputs": [],
   "source": [
    "# Save to txt\n",
    "train_sequences.to_csv(\n",
    "    '../aprec/data/bert4rec/rutube_week_train.txt',\n",
    "    sep=' ',\n",
    "    header=False,\n",
    "    index=False\n",
    ")\n",
    "test_sequences.to_csv(\n",
    "    '../aprec/data/bert4rec/rutube_week_test.txt',\n",
    "    sep=' ',\n",
    "    header=False,\n",
    "    index=False\n",
    ")"
   ]
  },
  {
   "cell_type": "code",
   "execution_count": null,
   "id": "987480d0-3e2d-4856-a5e8-4db5b50bc1bb",
   "metadata": {},
   "outputs": [],
   "source": []
  }
 ],
 "metadata": {
  "kernelspec": {
   "display_name": "Python 3 (ipykernel)",
   "language": "python",
   "name": "python3"
  },
  "language_info": {
   "codemirror_mode": {
    "name": "ipython",
    "version": 3
   },
   "file_extension": ".py",
   "mimetype": "text/x-python",
   "name": "python",
   "nbconvert_exporter": "python",
   "pygments_lexer": "ipython3",
   "version": "3.12.2"
  }
 },
 "nbformat": 4,
 "nbformat_minor": 5
}
