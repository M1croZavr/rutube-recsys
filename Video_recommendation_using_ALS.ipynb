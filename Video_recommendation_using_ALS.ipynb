{
  "cells": [
    {
      "cell_type": "markdown",
      "metadata": {
        "id": "view-in-github",
        "colab_type": "text"
      },
      "source": [
        "<a href=\"https://colab.research.google.com/github/M1croZavr/rutube-recsys/blob/master/Video_recommendation_using_ALS.ipynb\" target=\"_parent\"><img src=\"https://colab.research.google.com/assets/colab-badge.svg\" alt=\"Open In Colab\"/></a>"
      ]
    },
    {
      "cell_type": "code",
      "execution_count": null,
      "metadata": {
        "colab": {
          "base_uri": "https://localhost:8080/"
        },
        "id": "0x9s4-VwvOTC",
        "outputId": "1c22d98b-3dc8-4a26-b598-a32ecf90d052"
      },
      "outputs": [
        {
          "output_type": "stream",
          "name": "stdout",
          "text": [
            "Collecting pyspark\n",
            "  Downloading pyspark-3.5.1.tar.gz (317.0 MB)\n",
            "\u001b[2K     \u001b[90m━━━━━━━━━━━━━━━━━━━━━━━━━━━━━━━━━━━━━━━━\u001b[0m \u001b[32m317.0/317.0 MB\u001b[0m \u001b[31m1.7 MB/s\u001b[0m eta \u001b[36m0:00:00\u001b[0m\n",
            "\u001b[?25h  Preparing metadata (setup.py) ... \u001b[?25l\u001b[?25hdone\n",
            "Requirement already satisfied: py4j==0.10.9.7 in /usr/local/lib/python3.10/dist-packages (from pyspark) (0.10.9.7)\n",
            "Building wheels for collected packages: pyspark\n",
            "  Building wheel for pyspark (setup.py) ... \u001b[?25l\u001b[?25hdone\n",
            "  Created wheel for pyspark: filename=pyspark-3.5.1-py2.py3-none-any.whl size=317488491 sha256=a00368f07839a5ce3f0054369a23175ee575ece5163809433ef588c182aa2f49\n",
            "  Stored in directory: /root/.cache/pip/wheels/80/1d/60/2c256ed38dddce2fdd93be545214a63e02fbd8d74fb0b7f3a6\n",
            "Successfully built pyspark\n",
            "Installing collected packages: pyspark\n",
            "Successfully installed pyspark-3.5.1\n"
          ]
        }
      ],
      "source": [
        "!pip install pyspark"
      ]
    },
    {
      "cell_type": "code",
      "execution_count": null,
      "metadata": {
        "colab": {
          "base_uri": "https://localhost:8080/"
        },
        "id": "FY2YmnYow-IV",
        "outputId": "e10d1d1c-b996-4247-ed33-73a649e2955b"
      },
      "outputs": [
        {
          "output_type": "stream",
          "name": "stdout",
          "text": [
            "Mounted at /content/drive\n"
          ]
        }
      ],
      "source": [
        "from google.colab import drive\n",
        "drive.mount('/content/drive', force_remount=True)"
      ]
    },
    {
      "cell_type": "code",
      "execution_count": null,
      "metadata": {
        "id": "dIcOJbBvucw9"
      },
      "outputs": [],
      "source": [
        "import math\n",
        "import os\n",
        "import pathlib\n",
        "import time\n",
        "\n",
        "import matplotlib.pyplot as plt\n",
        "import numpy as np\n",
        "import pandas as pd\n",
        "import seaborn as sns\n",
        "from pyspark.mllib.recommendation import ALS\n",
        "from pyspark.sql import SparkSession\n",
        "from pyspark.sql.functions import UserDefinedFunction, explode, desc, col\n",
        "from pyspark.sql.types import StringType, ArrayType\n",
        "\n",
        "%matplotlib inline"
      ]
    },
    {
      "cell_type": "code",
      "execution_count": null,
      "metadata": {
        "id": "SalF6tb0ucw9"
      },
      "outputs": [],
      "source": [
        "# spark config\n",
        "spark= SparkSession \\\n",
        "       .builder \\\n",
        "       .appName(\"ALS recommender\") \\\n",
        "       .getOrCreate()\n",
        "# get spark context\n",
        "sc = spark.sparkContext"
      ]
    },
    {
      "cell_type": "code",
      "execution_count": null,
      "metadata": {
        "id": "D6yXa1Z7ucw9"
      },
      "outputs": [],
      "source": [
        "# path config\n",
        "data_path = pathlib.Path('./drive/MyDrive/recsys/data/')"
      ]
    },
    {
      "cell_type": "markdown",
      "metadata": {
        "id": "UuIVa00Bucw-"
      },
      "source": [
        "# Load Data"
      ]
    },
    {
      "cell_type": "code",
      "execution_count": null,
      "metadata": {
        "colab": {
          "base_uri": "https://localhost:8080/"
        },
        "id": "-c_iQWueqaj5",
        "outputId": "69034bff-d03b-4ae4-ae80-189b5638d6bd"
      },
      "outputs": [
        {
          "output_type": "stream",
          "name": "stdout",
          "text": [
            "total 6999868\n",
            "-rw------- 1 root root    7591712 Feb 10 14:25 emotions.parquet\n",
            "-rw------- 1 root root    9179744 May 10 14:01 player_10000_by_emotions.parquet\n",
            "-rw------- 1 root root    9179744 Jun  1 10:28 player_10000u_84556i_by_emotions.parquet\n",
            "-rw------- 1 root root   15693693 Jun 21 14:45 player_10265u_116030i_by_emotions.parquet\n",
            "-rw------- 1 root root   20357637 Feb 19 20:02 player_11365.parquet\n",
            "-rw------- 1 root root 2518550367 Feb 10 14:29 player_starts_train.parquet\n",
            "-rw------- 1 root root    9862996 Jun  1 10:35 user_item_rating_118950i.csv\n",
            "-rw------- 1 root root    2559002 Jun  1 10:35 user_item_rating_118950i.parquet\n",
            "-rw------- 1 root root   19730890 Jun 21 14:51 user_item_rating_238107i.csv\n",
            "-rw------- 1 root root    4890401 Jun 21 14:51 user_item_rating_238107i.parquet\n",
            "-rw------- 1 root root    5459135 May 30 19:44 user_item_rating_61738i.csv\n",
            "-rw------- 1 root root    1379146 May 30 19:44 user_item_rating_61738i.parquet\n",
            "-rw------- 1 root root   13256179 May 10 18:15 user_item_rating_9696.csv\n",
            "-rw------- 1 root root    4805599 May 10 17:59 user_item_rating_9696.parquet\n",
            "-rw------- 1 root root   17198797 Jun  1 13:05 user_item_title_118950i.csv\n",
            "-rw------- 1 root root   34449654 Jun 14 12:23 user_item_title_238107i.csv\n",
            "-rw------- 1 root root 4473715636 Jan 24 19:31 videos.csv\n"
          ]
        }
      ],
      "source": [
        "!ls -la ./drive/MyDrive/recsys/data"
      ]
    },
    {
      "cell_type": "code",
      "execution_count": null,
      "metadata": {
        "id": "xzYjYTP9ucw-"
      },
      "outputs": [],
      "source": [
        "movies = spark.read.load(\n",
        "    str(data_path) + '/videos.csv',\n",
        "    format='csv',\n",
        "    header=True,\n",
        "    inferSchema=True\n",
        ")\n",
        "ratings = spark.read.load(\n",
        "    str(data_path) + '/user_item_rating_238107i.csv',\n",
        "    format='csv',\n",
        "    header=True,\n",
        "    inferSchema=True\n",
        ").dropna(subset='rating')"
      ]
    },
    {
      "cell_type": "markdown",
      "metadata": {
        "id": "d0tupkDgucw-"
      },
      "source": [
        "## Basic inspection"
      ]
    },
    {
      "cell_type": "code",
      "execution_count": null,
      "metadata": {
        "colab": {
          "base_uri": "https://localhost:8080/"
        },
        "id": "7w1hvz6Jucw-",
        "outputId": "d4e7802b-431d-4b2c-d16a-e454af334452"
      },
      "outputs": [
        {
          "output_type": "stream",
          "name": "stdout",
          "text": [
            "+-------------+--------------------+--------------------+--------+------+--------------------+--------------------+--------------------+--------+-----------+------+--------------------+--------------------+--------------------+--------------------+--------------------+--------------------+--------------------+--------------------+--------------------+--------------------+--------------------+--------------------+--------------------+--------------------+--------------------+--------------------+\n",
            "|      item_id|         video_title|        author_title|tv_title|season|   video_description|      category_title|          publicated|duration|channel_sub|tv_sub|ctr.CTR_10days_01_09|ctr.CTR_10days_10_09|ctr.CTR_10days_20_09|ctr.CTR_10days_30_09|ctr.CTR_10days_01_10|ctr.CTR_10days_10_10|ctr.CTR_10days_20_10|ctr.CTR_10days_30_10|ctr.CTR_10days_01_11|ctr.CTR_10days_10_11|ctr.CTR_10days_20_11|ctr.CTR_10days_30_11|ctr.CTR_10days_01_12|ctr.CTR_10days_10_12|ctr.CTR_10days_20_12|ctr.CTR_10days_30_12|\n",
            "+-------------+--------------------+--------------------+--------+------+--------------------+--------------------+--------------------+--------+-----------+------+--------------------+--------------------+--------------------+--------------------+--------------------+--------------------+--------------------+--------------------+--------------------+--------------------+--------------------+--------------------+--------------------+--------------------+--------------------+--------------------+\n",
            "|video_1757304|ДАРЫ. ВЕДЬМИНА ИЗ...|СИЛА ВЕДЬМЫ Ритуа...|    NULL|     0|                NULL|           Эзотерика|2022-01-27 11:12:...|  966067|       1080|     0|                 0.0|                 0.0|                 0.0|                 0.0|                 0.0|                 0.0|                 0.0|                 0.0|                 0.0|                 0.0|                 0.0|                 0.0|                 0.0|                 0.0|                 0.0|                NULL|\n",
            "|video_2742171|Укулеле, Джембе, ...|Секреты ухода за ...|    NULL|     0|Продолжаю клониро...|              Разное|2023-10-06 14:28:...|  162610|          0|     0|                NULL|                NULL|                NULL|                NULL|                NULL|                NULL|                NULL|                 0.0|                 0.0|                 0.0|                 0.0|                 0.0|                 0.0|                 0.0|                 0.0|                NULL|\n",
            "|video_2490506|\"Мифы о \"\"Газпром...|gazpromtransgazsu...|    NULL|     0|\"Сегодня в новой ...| связанные с Обще...|                NULL|    NULL|       NULL|  NULL|                NULL|                NULL|                NULL|                NULL|                NULL|                NULL|                NULL|                NULL|                NULL|                NULL|                NULL|                NULL|                NULL|                NULL|                NULL|                NULL|\n",
            "+-------------+--------------------+--------------------+--------+------+--------------------+--------------------+--------------------+--------+-----------+------+--------------------+--------------------+--------------------+--------------------+--------------------+--------------------+--------------------+--------------------+--------------------+--------------------+--------------------+--------------------+--------------------+--------------------+--------------------+--------------------+\n",
            "only showing top 3 rows\n",
            "\n"
          ]
        }
      ],
      "source": [
        "movies.show(3)"
      ]
    },
    {
      "cell_type": "code",
      "execution_count": null,
      "metadata": {
        "colab": {
          "base_uri": "https://localhost:8080/"
        },
        "id": "zB7kWUvlucw-",
        "outputId": "56886f32-4c45-4ec9-f04f-390cc7c6432c"
      },
      "outputs": [
        {
          "output_type": "stream",
          "name": "stdout",
          "text": [
            "+-------------------+-------------+-------------+----------+--------------+-------------------+------------+------+\n",
            "|     event_datetime|      user_id|      item_id|watch_time|video_duration|  feedback_datetime|        type|rating|\n",
            "+-------------------+-------------+-------------+----------+--------------+-------------------+------------+------+\n",
            "|2023-09-06 18:58:23|user_15133278|video_1134138|        -1|           387|2023-09-06 15:58:17|       v_top|     2|\n",
            "|2023-09-06 05:12:49|user_29957940|video_1134138|         1|           387|2023-09-06 02:12:48|pos_emotions|     1|\n",
            "|2023-09-07 19:00:16|user_18818653|video_1134138|         1|           387|2023-09-07 16:00:08|       v_top|     2|\n",
            "+-------------------+-------------+-------------+----------+--------------+-------------------+------------+------+\n",
            "only showing top 3 rows\n",
            "\n"
          ]
        },
        {
          "output_type": "execute_result",
          "data": {
            "text/plain": [
              "(None, 238107)"
            ]
          },
          "metadata": {},
          "execution_count": 9
        }
      ],
      "source": [
        "ratings.show(3), ratings.count()"
      ]
    },
    {
      "cell_type": "markdown",
      "metadata": {
        "id": "uPrUQrejucw_"
      },
      "source": [
        "What are the ratings?"
      ]
    },
    {
      "cell_type": "code",
      "execution_count": null,
      "metadata": {
        "colab": {
          "base_uri": "https://localhost:8080/"
        },
        "id": "caHKjMqFucw_",
        "outputId": "5a2906d6-fd38-4684-a0c6-ffd118e90098"
      },
      "outputs": [
        {
          "output_type": "stream",
          "name": "stdout",
          "text": [
            "Distinct values of ratings:\n",
            "[0.0, 1.0, 2.0]\n"
          ]
        }
      ],
      "source": [
        "print('Distinct values of ratings:')\n",
        "print(sorted(ratings.select('rating').distinct().rdd.map(lambda r: r[0]).collect()))"
      ]
    },
    {
      "cell_type": "markdown",
      "metadata": {
        "id": "aszB4HJWucw_"
      },
      "source": [
        "What is minimum number of ratings per user and minimum number of ratings per movie?"
      ]
    },
    {
      "cell_type": "code",
      "execution_count": null,
      "metadata": {
        "colab": {
          "base_uri": "https://localhost:8080/"
        },
        "id": "xcRq9uGEucw_",
        "outputId": "13a98ba0-2b3c-4a40-cde4-0a6ef5cc4776"
      },
      "outputs": [
        {
          "output_type": "stream",
          "name": "stdout",
          "text": [
            "For the users that rated movies and the movies that were rated:\n",
            "Minimum number of ratings per user is 1\n",
            "Minimum number of ratings per movie is 1\n"
          ]
        }
      ],
      "source": [
        "tmp1 = ratings.groupBy(\"user_id\").count().toPandas()['count'].min()\n",
        "tmp2 = ratings.groupBy(\"item_id\").count().toPandas()['count'].min()\n",
        "print('For the users that rated movies and the movies that were rated:')\n",
        "print('Minimum number of ratings per user is {}'.format(tmp1))\n",
        "print('Minimum number of ratings per movie is {}'.format(tmp2))"
      ]
    },
    {
      "cell_type": "markdown",
      "metadata": {
        "id": "cpXVCwK_ucxA"
      },
      "source": [
        "How many movies are rated by only one user?"
      ]
    },
    {
      "cell_type": "code",
      "execution_count": null,
      "metadata": {
        "colab": {
          "base_uri": "https://localhost:8080/"
        },
        "id": "sUjPQ8iIucxA",
        "outputId": "393399d8-1fd2-4ac9-e155-3181e3ff8963"
      },
      "outputs": [
        {
          "output_type": "stream",
          "name": "stdout",
          "text": [
            "19185 out of 26710 movies are rated by only one user\n"
          ]
        }
      ],
      "source": [
        "tmp1 = sum(ratings.groupBy(\"item_id\").count().toPandas()['count'] == 1)\n",
        "tmp2 = ratings.select('item_id').distinct().count()\n",
        "print('{} out of {} movies are rated by only one user'.format(tmp1, tmp2))"
      ]
    },
    {
      "cell_type": "markdown",
      "metadata": {
        "id": "45hKDVdeucxA"
      },
      "source": [
        "What is the total number of users in the data sets?"
      ]
    },
    {
      "cell_type": "code",
      "execution_count": null,
      "metadata": {
        "colab": {
          "base_uri": "https://localhost:8080/"
        },
        "id": "4mBmFb9AucxA",
        "outputId": "d35a95ca-a742-4a8b-d777-9d1d2eeb34bb"
      },
      "outputs": [
        {
          "output_type": "stream",
          "name": "stdout",
          "text": [
            "We have a total of 9246 distinct users in the data sets\n"
          ]
        }
      ],
      "source": [
        "tmp = ratings.select('user_id').distinct().count()\n",
        "print('We have a total of {} distinct users in the data sets'.format(tmp))"
      ]
    },
    {
      "cell_type": "markdown",
      "metadata": {
        "id": "fmvYlGl-ucxA"
      },
      "source": [
        "What is the total number of movies in the data sets?"
      ]
    },
    {
      "cell_type": "code",
      "execution_count": null,
      "metadata": {
        "colab": {
          "base_uri": "https://localhost:8080/"
        },
        "id": "yijpAMavucxA",
        "outputId": "6b7db64d-c000-4f53-fce4-028f7d7c7916"
      },
      "outputs": [
        {
          "output_type": "stream",
          "name": "stdout",
          "text": [
            "We have a total of 15542155 distinct movies in the data sets\n"
          ]
        }
      ],
      "source": [
        "tmp = movies.select('item_id').distinct().count()\n",
        "print('We have a total of {} distinct movies in the data sets'.format(tmp))"
      ]
    },
    {
      "cell_type": "markdown",
      "metadata": {
        "id": "uyvRKcLIucxA"
      },
      "source": [
        "How many movies are rated by users? List movies not rated yet?"
      ]
    },
    {
      "cell_type": "code",
      "execution_count": null,
      "metadata": {
        "colab": {
          "base_uri": "https://localhost:8080/"
        },
        "id": "OrQkcj6nucxA",
        "outputId": "174628b2-705c-4be5-b7d0-98f82e75ad98"
      },
      "outputs": [
        {
          "output_type": "stream",
          "name": "stdout",
          "text": [
            "We have a total of 26710 distinct movies that are rated by users in ratings table\n",
            "We have 15515445 movies that are not rated yet\n"
          ]
        }
      ],
      "source": [
        "tmp1 = movies.select('item_id').distinct().count()\n",
        "tmp2 = ratings.select('item_id').distinct().count()\n",
        "print('We have a total of {} distinct movies that are rated by users in ratings table'.format(tmp2))\n",
        "print('We have {} movies that are not rated yet'.format(tmp1 - tmp2))"
      ]
    },
    {
      "cell_type": "code",
      "execution_count": null,
      "metadata": {
        "id": "SkQW5D9oucxA"
      },
      "outputs": [],
      "source": [
        "# create a temp SQL table view for easier query\n",
        "movies.createOrReplaceTempView(\"movies\")\n",
        "ratings.createOrReplaceTempView(\"ratings\")\n",
        "# print('List movies that are not rated yet: ')\n",
        "# SQL query (NOTE: WHERE ... NOT IN ... == ... LEFT JOIN ... WHERE ... IS NULL)\n",
        "# Approach 1\n",
        "# spark.sql(\n",
        "#     \"SELECT item_id, video_title \"\n",
        "#     \"FROM movies \"\n",
        "#     \"WHERE item_id NOT IN (SELECT distinct(item_id) FROM ratings)\"\n",
        "# ).show(10)\n",
        "# Approach 2\n",
        "# spark.sql(\n",
        "#     \"SELECT m.movieId, m.title \"\n",
        "#     \"FROM movies m LEFT JOIN ratings r ON m.movieId=r.movieId \"\n",
        "#     \"WHERE r.movieId IS NULL\"\n",
        "# ).show(10)"
      ]
    },
    {
      "cell_type": "code",
      "execution_count": null,
      "metadata": {
        "id": "nHSz96KJ_JM9"
      },
      "outputs": [],
      "source": [
        "# movies_small = movies.join(ratings, movies.item_id == ratings.item_id, 'inner')\n",
        "movies_small = spark.sql(\n",
        "    \"SELECT user_id, r.item_id, video_title AS title, event_datetime \"\n",
        "    \"FROM ratings r \"\n",
        "    \"INNER JOIN movies m ON r.item_id = m.item_id \"\n",
        "    \"ORDER BY event_datetime ASC\"\n",
        ")"
      ]
    },
    {
      "cell_type": "code",
      "execution_count": null,
      "metadata": {
        "colab": {
          "base_uri": "https://localhost:8080/"
        },
        "id": "F1d24oZYCWEA",
        "outputId": "bc588eda-2099-4140-c724-2efd966e5b79"
      },
      "outputs": [
        {
          "output_type": "stream",
          "name": "stdout",
          "text": [
            "+-------------+-------------+--------------------+-------------------+\n",
            "|      user_id|      item_id|               title|     event_datetime|\n",
            "+-------------+-------------+--------------------+-------------------+\n",
            "| user_4329458|video_3442132|Сопрано S03E06 Ун...|2023-08-31 21:00:03|\n",
            "| user_3576973|video_3131219|#видеомейкинг #ви...|2023-08-31 21:00:08|\n",
            "| user_4161636|video_2173882|Первые высотки пр...|2023-08-31 21:00:18|\n",
            "|user_25263908|video_2361603| Волк кушает бублики|2023-08-31 21:01:02|\n",
            "|user_17492633|video_1682383|Рисунок поросенка...|2023-08-31 21:01:46|\n",
            "|user_25663791|video_3481709|Балтика - Зенит. ...|2023-08-31 21:02:57|\n",
            "|user_14081210|video_1338748|Не свети-ка месяц...|2023-08-31 21:03:24|\n",
            "|user_12585573|video_2371248|МЫЩЦЫ ТАЗОВОГО ДН...|2023-08-31 21:03:52|\n",
            "|   user_54537|video_1845511|Увлекательное вид...|2023-08-31 21:05:04|\n",
            "| user_4161636| video_345406|  Мятная брюква #028|2023-08-31 21:05:30|\n",
            "+-------------+-------------+--------------------+-------------------+\n",
            "only showing top 10 rows\n",
            "\n"
          ]
        }
      ],
      "source": [
        "movies_small.show(10)"
      ]
    },
    {
      "cell_type": "code",
      "source": [
        "movies_small.count()"
      ],
      "metadata": {
        "colab": {
          "base_uri": "https://localhost:8080/"
        },
        "id": "o56RTppR3SWs",
        "outputId": "9135e376-8281-4ba5-f2a0-64de8778d893"
      },
      "execution_count": null,
      "outputs": [
        {
          "output_type": "execute_result",
          "data": {
            "text/plain": [
              "237742"
            ]
          },
          "metadata": {},
          "execution_count": 11
        }
      ]
    },
    {
      "cell_type": "code",
      "source": [
        "movies_small_df = movies_small.toPandas()\n",
        "movies_small_df.to_csv('./drive/MyDrive/recsys/data/user_item_title_237742i.csv')"
      ],
      "metadata": {
        "id": "-etF3CBH3yqA"
      },
      "execution_count": null,
      "outputs": []
    },
    {
      "cell_type": "code",
      "source": [
        "movies_small_df.nunique()"
      ],
      "metadata": {
        "colab": {
          "base_uri": "https://localhost:8080/"
        },
        "id": "h_MtC38_ZGW-",
        "outputId": "68e84854-5160-4e79-894c-cd0f4dcf9415"
      },
      "execution_count": null,
      "outputs": [
        {
          "output_type": "execute_result",
          "data": {
            "text/plain": [
              "user_id             9380\n",
              "item_id            23353\n",
              "title              23114\n",
              "event_datetime    234706\n",
              "dtype: int64"
            ]
          },
          "metadata": {},
          "execution_count": 21
        }
      ]
    },
    {
      "cell_type": "markdown",
      "metadata": {
        "id": "TRPjD0q8ucxB"
      },
      "source": [
        "## Spark ALS based approach for training model\n",
        "1. Reload data\n",
        "2. Split data into train, validation, test\n",
        "3. ALS model selection and evaluation\n",
        "4. Model testing"
      ]
    },
    {
      "cell_type": "markdown",
      "metadata": {
        "id": "EhCEDotaucxB"
      },
      "source": [
        "### Reload data\n",
        "We will use an RDD-based API from pyspark.mllib to predict the ratings, so let's reload \"ratings.csv\" using sc.textFile and then convert it to the form of (user, item, rating) tuples."
      ]
    },
    {
      "cell_type": "code",
      "execution_count": null,
      "metadata": {
        "colab": {
          "base_uri": "https://localhost:8080/"
        },
        "id": "goGNx6_VucxB",
        "outputId": "6f396527-1b5a-4ac8-e234-05cb4d850f49"
      },
      "outputs": [
        {
          "output_type": "execute_result",
          "data": {
            "text/plain": [
              "([('user_25263908', 'video_2597185', 2.0),\n",
              "  ('user_1206280', 'video_908411', 2.0),\n",
              "  ('user_17162325', 'video_2631795', 1.0)],\n",
              " 87266)"
            ]
          },
          "metadata": {},
          "execution_count": 13
        }
      ],
      "source": [
        "# load data\n",
        "movie_rating = sc.textFile(os.path.join(data_path, 'user_item_rating_9696.csv'))\n",
        "# preprocess data -- only need [\"user_id\", \"item_id\", \"rating\"]\n",
        "header = movie_rating.take(1)[0]\n",
        "rating_data = movie_rating \\\n",
        "    .filter(lambda line: line != header) \\\n",
        "    .map(lambda line: line.split(\",\")) \\\n",
        "    .filter(lambda tokens: tokens[7] != '') \\\n",
        "    .map(lambda tokens: (tokens[1], tokens[2], float(tokens[7]))) \\\n",
        "    .cache()\n",
        "# check three rows\n",
        "rating_data.take(3), rating_data.count()"
      ]
    },
    {
      "cell_type": "markdown",
      "metadata": {
        "id": "ZJJ4yTSCucxB"
      },
      "source": [
        "### Split data\n",
        "Now we split the data into training/validation/testing sets using a 6/2/2 ratio."
      ]
    },
    {
      "cell_type": "code",
      "execution_count": null,
      "metadata": {
        "id": "dIGDrrrjucxB"
      },
      "outputs": [],
      "source": [
        "train, validation, test = rating_data.randomSplit([6, 2, 2], seed=123)"
      ]
    },
    {
      "cell_type": "code",
      "execution_count": null,
      "metadata": {
        "id": "7aMyqFTpcbIB"
      },
      "outputs": [],
      "source": [
        "USER_ID_MAPER = dict()\n",
        "ITEM_ID_MAPER = dict()\n",
        "\n",
        "for line in rating_data.collect():\n",
        "    user_id, item_id, rating = line\n",
        "    if user_id not in USER_ID_MAPER:\n",
        "        USER_ID_MAPER[user_id] = max(USER_ID_MAPER.values()) + 1 if USER_ID_MAPER else 0\n",
        "    if item_id not in ITEM_ID_MAPER:\n",
        "        ITEM_ID_MAPER[item_id] = max(ITEM_ID_MAPER.values()) + 1 if ITEM_ID_MAPER else 0"
      ]
    },
    {
      "cell_type": "code",
      "execution_count": null,
      "metadata": {
        "colab": {
          "base_uri": "https://localhost:8080/"
        },
        "id": "gwIUfntAZZ6R",
        "outputId": "224e35e6-5e4d-47b2-80ad-3a4167ea4483"
      },
      "outputs": [
        {
          "output_type": "execute_result",
          "data": {
            "text/plain": [
              "PythonRDD[58] at RDD at PythonRDD.scala:53"
            ]
          },
          "metadata": {},
          "execution_count": 16
        }
      ],
      "source": [
        "train = train.map(\n",
        "    lambda t: (\n",
        "        USER_ID_MAPER[t[0]],\n",
        "        ITEM_ID_MAPER[t[1]],\n",
        "        t[2]\n",
        "    )\n",
        ")\n",
        "validation = validation.map(\n",
        "    lambda t: (\n",
        "        USER_ID_MAPER[t[0]],\n",
        "        ITEM_ID_MAPER[t[1]],\n",
        "        t[2]\n",
        "    )\n",
        ")\n",
        "test = test.map(\n",
        "    lambda t: (\n",
        "        USER_ID_MAPER[t[0]],\n",
        "        ITEM_ID_MAPER[t[1]],\n",
        "        t[2]\n",
        "    )\n",
        ")\n",
        "# cache data\n",
        "train.cache()\n",
        "validation.cache()\n",
        "test.cache()"
      ]
    },
    {
      "cell_type": "markdown",
      "metadata": {
        "id": "oLTxaGLmucxB"
      },
      "source": [
        "### ALS model selection and evaluation\n",
        "With the ALS model, we can use a grid search to find the optimal hyperparameters."
      ]
    },
    {
      "cell_type": "code",
      "execution_count": null,
      "metadata": {
        "id": "pYRYniXhucxB"
      },
      "outputs": [],
      "source": [
        "def train_ALS(train_data, validation_data, num_iters, reg_param, ranks):\n",
        "    \"\"\"\n",
        "    Grid Search Function to select the best model based on RMSE of hold-out data\n",
        "    \"\"\"\n",
        "    # initial\n",
        "    min_error = float('inf')\n",
        "    best_rank = -1\n",
        "    best_regularization = 0\n",
        "    best_model = None\n",
        "    for rank in ranks:\n",
        "        for reg in reg_param:\n",
        "            # train ALS model\n",
        "            model = ALS.train(\n",
        "                ratings=train_data,    # (user_id, item_id, rating) tuple\n",
        "                iterations=num_iters,\n",
        "                rank=rank,\n",
        "                lambda_=reg,           # regularization param\n",
        "                seed=123\n",
        "            )\n",
        "            # make prediction\n",
        "            valid_data = validation_data.map(lambda p: (p[0], p[1]))\n",
        "            predictions = model.predictAll(valid_data).map(lambda r: ((r[0], r[1]), r[2]))\n",
        "            # get the rating result\n",
        "            ratesAndPreds = validation_data.map(lambda r: ((r[0], r[1]), r[2])).join(predictions)\n",
        "            # get the RMSE\n",
        "            MSE = ratesAndPreds.map(lambda r: (r[1][0] - r[1][1])**2).mean()\n",
        "            error = math.sqrt(MSE)\n",
        "            print('{} latent factors and regularization = {}: validation RMSE is {}'.format(rank, reg, error))\n",
        "            if error < min_error:\n",
        "                min_error = error\n",
        "                best_rank = rank\n",
        "                best_regularization = reg\n",
        "                best_model = model\n",
        "    print('\\nThe best model has {} latent factors and regularization = {}'.format(best_rank, best_regularization))\n",
        "    return best_model"
      ]
    },
    {
      "cell_type": "code",
      "execution_count": null,
      "metadata": {
        "colab": {
          "base_uri": "https://localhost:8080/"
        },
        "id": "SH8FDjgiucxB",
        "outputId": "7753ed53-0065-4736-9cda-6cc442b474ac"
      },
      "outputs": [
        {
          "output_type": "stream",
          "name": "stdout",
          "text": [
            "14 latent factors and regularization = 0.1: validation RMSE is 0.5480801892459494\n",
            "\n",
            "The best model has 14 latent factors and regularization = 0.1\n",
            "Total Runtime: 23.80 seconds\n"
          ]
        }
      ],
      "source": [
        "# hyper-param config\n",
        "num_iterations = 10\n",
        "ranks = [14]  # [8, 10, 12, 14, 16, 18, 20]\n",
        "reg_params = [0.1]  # [0.001, 0.01, 0.05, 0.1, 0.2]\n",
        "\n",
        "# grid search and select best model\n",
        "start_time = time.time()\n",
        "final_model = train_ALS(train, validation, num_iterations, reg_params, ranks)\n",
        "\n",
        "print ('Total Runtime: {:.2f} seconds'.format(time.time() - start_time))"
      ]
    },
    {
      "cell_type": "markdown",
      "metadata": {
        "id": "IFJNBRptucxB"
      },
      "source": [
        "### ALS model learning curve\n",
        "As we increase number of iterations in training ALS, we can see how RMSE changes and whether or not model is overfitted."
      ]
    },
    {
      "cell_type": "code",
      "execution_count": null,
      "metadata": {
        "id": "JObFghJxucxB"
      },
      "outputs": [],
      "source": [
        "def plot_learning_curve(arr_iters, train_data, validation_data, reg, rank):\n",
        "    \"\"\"\n",
        "    Plot function to show learning curve of ALS\n",
        "    \"\"\"\n",
        "    errors = []\n",
        "    for num_iters in arr_iters:\n",
        "        # train ALS model\n",
        "        model = ALS.train(\n",
        "            ratings=train_data,    # (user_id, product_id, rating) tuple\n",
        "            iterations=num_iters,\n",
        "            rank=rank,\n",
        "            lambda_=reg,           # regularization param\n",
        "            seed=123\n",
        "        )\n",
        "        # make prediction\n",
        "        valid_data = validation_data.map(lambda p: (p[0], p[1]))\n",
        "        predictions = model.predictAll(valid_data).map(lambda r: ((r[0], r[1]), r[2]))\n",
        "        # get the rating result\n",
        "        ratesAndPreds = validation_data.map(lambda r: ((r[0], r[1]), r[2])).join(predictions)\n",
        "        # get the RMSE\n",
        "        MSE = ratesAndPreds.map(lambda r: (r[1][0] - r[1][1])**2).mean()\n",
        "        error = math.sqrt(MSE)\n",
        "        # add to errors\n",
        "        errors.append(error)\n",
        "\n",
        "    # plot\n",
        "    plt.figure(figsize=(12, 6))\n",
        "    plt.plot(arr_iters, errors)\n",
        "    plt.xlabel('number of iterations')\n",
        "    plt.ylabel('RMSE')\n",
        "    plt.title('ALS Learning Curve')\n",
        "    plt.grid(True)\n",
        "    plt.show()"
      ]
    },
    {
      "cell_type": "code",
      "execution_count": null,
      "metadata": {
        "colab": {
          "base_uri": "https://localhost:8080/",
          "height": 564
        },
        "id": "pRDp8hSqucxC",
        "outputId": "fe902d4f-35f2-4462-fb3a-dd4e9056269a"
      },
      "outputs": [
        {
          "output_type": "display_data",
          "data": {
            "text/plain": [
              "<Figure size 1200x600 with 1 Axes>"
            ],
            "image/png": "[encoded data removed]"
          },
          "metadata": {}
        }
      ],
      "source": [
        "# create an array of num_iters\n",
        "iter_array = list(range(1, 11))\n",
        "# create learning curve plot\n",
        "plot_learning_curve(iter_array, train, validation, 0.1, 14)"
      ]
    },
    {
      "cell_type": "markdown",
      "metadata": {
        "id": "XtWCKVxmucxC"
      },
      "source": [
        "After 3 iterations, alternating gradient descend starts to converge at an error around 0.8"
      ]
    },
    {
      "cell_type": "markdown",
      "metadata": {
        "id": "6bBLwT6KucxC"
      },
      "source": [
        "### Model testing\n",
        "And finally, make a prediction and check the testing error using out-of-sample data"
      ]
    },
    {
      "cell_type": "code",
      "execution_count": null,
      "metadata": {
        "colab": {
          "base_uri": "https://localhost:8080/"
        },
        "id": "GFLwICxQucxC",
        "outputId": "e97e382b-fa7b-46f7-b822-735dde33b176"
      },
      "outputs": [
        {
          "output_type": "stream",
          "name": "stdout",
          "text": [
            "The out-of-sample RMSE of rating predictions is 0.55\n"
          ]
        }
      ],
      "source": [
        "# make prediction using test data\n",
        "test_data = test.map(lambda p: (p[0], p[1]))\n",
        "predictions = final_model.predictAll(test_data).map(lambda r: ((r[0], r[1]), r[2]))\n",
        "# get the rating result\n",
        "ratesAndPreds = test.map(lambda r: ((r[0], r[1]), r[2])).join(predictions)\n",
        "# get the RMSE\n",
        "MSE = ratesAndPreds.map(lambda r: (r[1][0] - r[1][1])**2).mean()\n",
        "error = math.sqrt(MSE)\n",
        "print('The out-of-sample RMSE of rating predictions is', round(error, 4))"
      ]
    },
    {
      "cell_type": "markdown",
      "metadata": {
        "id": "IeenDRxiucxD"
      },
      "source": [
        "### Make movie recommendation to myself\n",
        "We need to define a function that takes new user's movie rating and output top 10 recommendations"
      ]
    },
    {
      "cell_type": "code",
      "execution_count": null,
      "metadata": {
        "id": "cbqEk5v8ucxD"
      },
      "outputs": [],
      "source": [
        "def get_movieId(df_movies, fav_movie_list):\n",
        "    \"\"\"\n",
        "    return all movieId(s) of user's favorite movies\n",
        "\n",
        "    Parameters\n",
        "    ----------\n",
        "    df_movies: spark Dataframe, movies data\n",
        "\n",
        "    fav_movie_list: list, user's list of favorite movies\n",
        "\n",
        "    Return\n",
        "    ------\n",
        "    movieId_list: list of movieId(s)\n",
        "    \"\"\"\n",
        "    movieId_list = []\n",
        "    for movie in fav_movie_list:\n",
        "        movieIds = df_movies \\\n",
        "            .filter(movies.video_title.like('%{}%'.format(movie))) \\\n",
        "            .select('item_id') \\\n",
        "            .rdd \\\n",
        "            .map(lambda r: ITEM_ID_MAPER[r[0]]) \\\n",
        "            .collect()\n",
        "        movieId_list.extend(movieIds)\n",
        "    return list(set(movieId_list))\n",
        "\n",
        "\n",
        "def add_new_user_to_data(train_data, movieId_list, spark_context):\n",
        "    \"\"\"\n",
        "    add new rows with new user, user's movie and ratings to\n",
        "    existing train data\n",
        "\n",
        "    Parameters\n",
        "    ----------\n",
        "    train_data: spark RDD, ratings data\n",
        "\n",
        "    movieId_list: list, list of movieId(s)\n",
        "\n",
        "    spark_context: Spark Context object\n",
        "\n",
        "    Return\n",
        "    ------\n",
        "    new train data with the new user's rows\n",
        "    \"\"\"\n",
        "    # get new user id\n",
        "    new_id = train_data.map(lambda r: r[0]).max() + 1\n",
        "    # get max rating\n",
        "    max_rating = train_data.map(lambda r: r[2]).max()\n",
        "    # create new user rdd\n",
        "    user_rows = [(new_id, movieId, max_rating) for movieId in movieId_list]\n",
        "    new_rdd = spark_context.parallelize(user_rows)\n",
        "    # return new train data\n",
        "    return train_data.union(new_rdd)\n",
        "\n",
        "\n",
        "def get_inference_data(train_data, df_movies, movieId_list):\n",
        "    \"\"\"\n",
        "    return a rdd with the userid and all movies (except ones in movieId_list)\n",
        "\n",
        "    Parameters\n",
        "    ----------\n",
        "    train_data: spark RDD, ratings data\n",
        "\n",
        "    df_movies: spark Dataframe, movies data\n",
        "\n",
        "    movieId_list: list, list of movieId(s)\n",
        "\n",
        "    Return\n",
        "    ------\n",
        "    inference data: Spark RDD\n",
        "    \"\"\"\n",
        "    # get new user id\n",
        "    new_id = train_data.map(lambda r: USER_ID_MAPER[r[0]]).max() + 1\n",
        "    # return inference rdd\n",
        "    return df_movies.rdd \\\n",
        "        .map(lambda r: ITEM_ID_MAPER[r[0]]) \\\n",
        "        .distinct() \\\n",
        "        .filter(lambda x: x not in movieId_list) \\\n",
        "        .map(lambda x: (new_id, x))\n",
        "\n",
        "\n",
        "def make_recommendation(best_model_params, ratings_data, df_movies,\n",
        "                        fav_movie_list, n_recommendations, spark_context):\n",
        "    \"\"\"\n",
        "    return top n movie recommendation based on user's input list of favorite movies\n",
        "\n",
        "\n",
        "    Parameters\n",
        "    ----------\n",
        "    best_model_params: dict, {'iterations': iter, 'rank': rank, 'lambda_': reg}\n",
        "\n",
        "    ratings_data: spark RDD, ratings data\n",
        "\n",
        "    df_movies: spark Dataframe, movies data\n",
        "\n",
        "    fav_movie_list: list, user's list of favorite movies\n",
        "\n",
        "    n_recommendations: int, top n recommendations\n",
        "\n",
        "    spark_context: Spark Context object\n",
        "\n",
        "    Return\n",
        "    ------\n",
        "    list of top n movie recommendations\n",
        "    \"\"\"\n",
        "    # modify train data by adding new user's rows\n",
        "    movieId_list = get_movieId(df_movies, fav_movie_list)\n",
        "    train_data = ratings_data.map(\n",
        "        lambda t: (\n",
        "            USER_ID_MAPER[t[0]],\n",
        "            ITEM_ID_MAPER[t[1]],\n",
        "            t[2]\n",
        "        )\n",
        "    )\n",
        "    train_data = add_new_user_to_data(train_data, movieId_list, spark_context)\n",
        "\n",
        "    # train best ALS\n",
        "    model = ALS.train(\n",
        "        ratings=train_data,\n",
        "        iterations=best_model_params.get('iterations', None),\n",
        "        rank=best_model_params.get('rank', None),\n",
        "        lambda_=best_model_params.get('lambda_', None),\n",
        "        seed=123\n",
        "    )\n",
        "\n",
        "    # get inference rdd\n",
        "    inference_rdd = get_inference_data(ratings_data, df_movies, movieId_list)\n",
        "\n",
        "    # inference\n",
        "    predictions = model.predictAll(inference_rdd).map(lambda r: (r[1], r[2]))\n",
        "\n",
        "    # get top n movieId\n",
        "    topn_rows = predictions.sortBy(lambda r: r[1], ascending=False).take(n_recommendations)\n",
        "    topn_ids = [r[0] for r in topn_rows]\n",
        "\n",
        "    # return movie titles\n",
        "    return df_movies.filter(movies_small.item_id.isin(topn_ids)) \\\n",
        "                    .select('video_title') \\\n",
        "                    .rdd \\\n",
        "                    .map(lambda r: r[0]) \\\n",
        "                    .collect()"
      ]
    },
    {
      "cell_type": "markdown",
      "metadata": {
        "id": "qnG4y-9gucxD"
      },
      "source": [
        "Let's pretend I am a new user in this recommender system. I will input a handful of my all-time favorite movies into the system. And then the system should output top N movie recommendations for me to watch"
      ]
    },
    {
      "cell_type": "code",
      "source": [
        "movies_small.groupBy('video_title').count().sort(col('count').desc()).show(10)"
      ],
      "metadata": {
        "colab": {
          "base_uri": "https://localhost:8080/"
        },
        "id": "t22ZFrhi1gvq",
        "outputId": "b1531f5d-897e-43aa-97a5-d158d7d4f59d"
      },
      "execution_count": null,
      "outputs": [
        {
          "output_type": "stream",
          "name": "stdout",
          "text": [
            "+--------------------+-----+\n",
            "|         video_title|count|\n",
            "+--------------------+-----+\n",
            "|       уличные танцы|   33|\n",
            "|Пиратка World of ...|   29|\n",
            "|          Мир танков|   22|\n",
            "|Assassin's Creed:...|   14|\n",
            "|          Мир Танков|   12|\n",
            "|   Вопрос на засыпку|   12|\n",
            "|          МИР ТАНКОВ|   11|\n",
            "|Фортнайт рулетка ...|    8|\n",
            "|\"Дмитрий Goblin П...|    8|\n",
            "|           GreedFall|    8|\n",
            "+--------------------+-----+\n",
            "only showing top 10 rows\n",
            "\n"
          ]
        }
      ]
    },
    {
      "cell_type": "code",
      "execution_count": null,
      "metadata": {
        "id": "HravO85uucxD",
        "outputId": "19549933-521f-47da-bba0-9f93879973a1",
        "colab": {
          "base_uri": "https://localhost:8080/"
        }
      },
      "outputs": [
        {
          "output_type": "stream",
          "name": "stdout",
          "text": [
            "Recommendations for уличные танцы:\n"
          ]
        }
      ],
      "source": [
        "# my favorite movies\n",
        "my_favorite_movies = ['уличные танцы', 'Мир танков']\n",
        "\n",
        "# get recommends\n",
        "recommends = make_recommendation(\n",
        "    best_model_params={'iterations': 10, 'rank': 14, 'lambda_': 0.1},\n",
        "    ratings_data=rating_data,\n",
        "    df_movies=movies_small,\n",
        "    fav_movie_list=my_favorite_movies,\n",
        "    n_recommendations=10,\n",
        "    spark_context=sc\n",
        ")\n",
        "\n",
        "print('Recommendations for {}:'.format(my_favorite_movies[0]))\n",
        "for i, title in enumerate(recommends):\n",
        "    print('{0}: {1}'.format(i+1, title))"
      ]
    },
    {
      "cell_type": "markdown",
      "metadata": {
        "id": "ds_SWaZrucxD"
      },
      "source": [
        "This list of movie recommendations look completely different than the list from my previous **KNN** model recommender. Not only it recommends movies outside of years between 2007 and 2009 periods, but also recommends movies that were less known. So this can offer users some elements of suprise so that users won't get bored by getting the same popular movies all the time.\n",
        "\n",
        "So this list of recommendations can be blended into the previous list of recommendations from **KNN** model recommender"
      ]
    }
  ],
  "metadata": {
    "colab": {
      "provenance": [],
      "include_colab_link": true
    },
    "kernelspec": {
      "display_name": "Python 3",
      "language": "python",
      "name": "python3"
    },
    "language_info": {
      "codemirror_mode": {
        "name": "ipython",
        "version": 3
      },
      "file_extension": ".py",
      "mimetype": "text/x-python",
      "name": "python",
      "nbconvert_exporter": "python",
      "pygments_lexer": "ipython3",
      "version": "3.6.5"
    }
  },
  "nbformat": 4,
  "nbformat_minor": 0
}